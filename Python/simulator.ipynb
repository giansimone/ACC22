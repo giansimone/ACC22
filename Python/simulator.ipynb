{
 "cells": [
  {
   "cell_type": "code",
   "execution_count": 4,
   "id": "e0da23cf",
   "metadata": {},
   "outputs": [],
   "source": [
    "import numpy as np\n",
    "from scipy.integrate import solve_ivp\n",
    "from matplotlib import pyplot as plt"
   ]
  },
  {
   "cell_type": "code",
   "execution_count": 5,
   "id": "de05b913",
   "metadata": {},
   "outputs": [],
   "source": [
    "class simulator:\n",
    "    \n",
    "    def __init__(self):\n",
    "        self.tMax, self.n = 10, 1000\n",
    "        self.par = {\n",
    "            'c': .2, # (uM)\n",
    "            'rt': .14, # (uM)\n",
    "            'az': 100, # (/h)\n",
    "            'bz': 5, # (/h)\n",
    "            'gz': 100, # (/h)\n",
    "            'dz': .4, # (/h)\n",
    "            'kz': 15, # (mM)\n",
    "            'ag': 100, # (/h)\n",
    "            'bg': 5, # (/h)\n",
    "            'gg': 100, # (/h)\n",
    "            'dg': .4, # (/h)\n",
    "            'kg': 15, # (mM)\n",
    "            }\n",
    "        self.mz0, self.pz0, self.mg0, self.pg0 = 0, 0, 0, 0\n",
    "    \n",
    "    def IFFL_circuit(self, t, x):\n",
    "        par = self.par\n",
    "        mz, pz, mg, pg = x        \n",
    "        dmz = par['c'] * par['az'] - par['bz'] * mz\n",
    "        dpz = par['gz'] * (mz / par['kz']) / (1 + mz / par['kz'] + mg / par['kg']) * par['rt'] - par['dz'] * pz\n",
    "        dmg = par['c'] * par['ag'] - par['bg'] * mg\n",
    "        dpg = par['gg'] * (mg / par['kg']) / (1 + mz / par['kz'] + mg / par['kg']) * par['rt'] - par['dg'] * pg\n",
    "        return dmz, dpz, dmg, dpg\n",
    "    \n",
    "    def simulateModel(self):\n",
    "        t = np.arange(0.0, self.tMax, 0.01)\n",
    "        x0 = (self.mz0, self.pz0, self.mg0, self.pg0)\n",
    "        tspan = (0, self.tMax)\n",
    "        par = self.par\n",
    "        soln = solve_ivp(self.IFFL_circuit, tspan, x0, t_eval = t, dense_output = True)\n",
    "        plt.plot(soln.t, soln.y[1, :])\n",
    "        plt.show()\n",
    "        pdf.savefig()\n",
    "        return soln"
   ]
  },
  {
   "cell_type": "code",
   "execution_count": 6,
   "id": "cf757692",
   "metadata": {},
   "outputs": [
    {
     "data": {
      "image/png": "[encoded data removed]",
      "text/plain": [
       "<Figure size 432x288 with 1 Axes>"
      ]
     },
     "metadata": {
      "needs_background": "light"
     },
     "output_type": "display_data"
    },
    {
     "ename": "NameError",
     "evalue": "name 'pdf' is not defined",
     "output_type": "error",
     "traceback": [
      "\u001b[0;31m---------------------------------------------------------------------------\u001b[0m",
      "\u001b[0;31mNameError\u001b[0m                                 Traceback (most recent call last)",
      "\u001b[0;32m/var/folders/wr/rfk33vbn11n383__m9hlxtg40000gn/T/ipykernel_1130/3819792706.py\u001b[0m in \u001b[0;36m<module>\u001b[0;34m\u001b[0m\n\u001b[1;32m      1\u001b[0m \u001b[0ms\u001b[0m \u001b[0;34m=\u001b[0m \u001b[0msimulator\u001b[0m\u001b[0;34m(\u001b[0m\u001b[0;34m)\u001b[0m\u001b[0;34m\u001b[0m\u001b[0;34m\u001b[0m\u001b[0m\n\u001b[0;32m----> 2\u001b[0;31m \u001b[0ma\u001b[0m \u001b[0;34m=\u001b[0m \u001b[0ms\u001b[0m\u001b[0;34m.\u001b[0m\u001b[0msimulateModel\u001b[0m\u001b[0;34m(\u001b[0m\u001b[0;34m)\u001b[0m\u001b[0;34m\u001b[0m\u001b[0;34m\u001b[0m\u001b[0m\n\u001b[0m",
      "\u001b[0;32m/var/folders/wr/rfk33vbn11n383__m9hlxtg40000gn/T/ipykernel_1130/3324154158.py\u001b[0m in \u001b[0;36msimulateModel\u001b[0;34m(self)\u001b[0m\n\u001b[1;32m     36\u001b[0m         \u001b[0mplt\u001b[0m\u001b[0;34m.\u001b[0m\u001b[0mplot\u001b[0m\u001b[0;34m(\u001b[0m\u001b[0msoln\u001b[0m\u001b[0;34m.\u001b[0m\u001b[0mt\u001b[0m\u001b[0;34m,\u001b[0m \u001b[0msoln\u001b[0m\u001b[0;34m.\u001b[0m\u001b[0my\u001b[0m\u001b[0;34m[\u001b[0m\u001b[0;36m1\u001b[0m\u001b[0;34m,\u001b[0m \u001b[0;34m:\u001b[0m\u001b[0;34m]\u001b[0m\u001b[0;34m)\u001b[0m\u001b[0;34m\u001b[0m\u001b[0;34m\u001b[0m\u001b[0m\n\u001b[1;32m     37\u001b[0m         \u001b[0mplt\u001b[0m\u001b[0;34m.\u001b[0m\u001b[0mshow\u001b[0m\u001b[0;34m(\u001b[0m\u001b[0;34m)\u001b[0m\u001b[0;34m\u001b[0m\u001b[0;34m\u001b[0m\u001b[0m\n\u001b[0;32m---> 38\u001b[0;31m         \u001b[0mpdf\u001b[0m\u001b[0;34m.\u001b[0m\u001b[0msavefig\u001b[0m\u001b[0;34m(\u001b[0m\u001b[0;34m)\u001b[0m\u001b[0;34m\u001b[0m\u001b[0;34m\u001b[0m\u001b[0m\n\u001b[0m\u001b[1;32m     39\u001b[0m         \u001b[0;32mreturn\u001b[0m \u001b[0msoln\u001b[0m\u001b[0;34m\u001b[0m\u001b[0;34m\u001b[0m\u001b[0m\n",
      "\u001b[0;31mNameError\u001b[0m: name 'pdf' is not defined"
     ]
    }
   ],
   "source": [
    "s = simulator()\n",
    "a = s.simulateModel()"
   ]
  }
 ],
 "metadata": {
  "kernelspec": {
   "display_name": "Python 3 (ipykernel)",
   "language": "python",
   "name": "python3"
  },
  "language_info": {
   "codemirror_mode": {
    "name": "ipython",
    "version": 3
   },
   "file_extension": ".py",
   "mimetype": "text/x-python",
   "name": "python",
   "nbconvert_exporter": "python",
   "pygments_lexer": "ipython3",
   "version": "3.9.6"
  }
 },
 "nbformat": 4,
 "nbformat_minor": 5
}
